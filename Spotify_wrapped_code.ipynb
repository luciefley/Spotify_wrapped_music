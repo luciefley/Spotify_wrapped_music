{
 "cells": [
  {
   "cell_type": "code",
   "execution_count": null,
   "id": "70fb8682",
   "metadata": {},
   "outputs": [],
   "source": [
    "# Made following John Mannelli's tutorial\n",
    "# link here : https://jman4190.medium.com/build-your-own-spotify-wrapped-with-python-spotify-and-glide-apps-493dc7da20b"
   ]
  },
  {
   "cell_type": "code",
   "execution_count": 1,
   "id": "d76d7ae8",
   "metadata": {},
   "outputs": [
    {
     "name": "stdout",
     "output_type": "stream",
     "text": [
      "Requirement already satisfied: requests in c:\\users\\lucie\\anaconda3\\lib\\site-packages (2.25.1)\n",
      "Requirement already satisfied: urllib3<1.27,>=1.21.1 in c:\\users\\lucie\\anaconda3\\lib\\site-packages (from requests) (1.26.4)\n",
      "Requirement already satisfied: chardet<5,>=3.0.2 in c:\\users\\lucie\\anaconda3\\lib\\site-packages (from requests) (4.0.0)\n",
      "Requirement already satisfied: idna<3,>=2.5 in c:\\users\\lucie\\anaconda3\\lib\\site-packages (from requests) (2.10)\n",
      "Requirement already satisfied: certifi>=2017.4.17 in c:\\users\\lucie\\anaconda3\\lib\\site-packages (from requests) (2020.12.5)\n"
     ]
    }
   ],
   "source": [
    "!pip install requests"
   ]
  },
  {
   "cell_type": "code",
   "execution_count": 2,
   "id": "b69025a6",
   "metadata": {},
   "outputs": [
    {
     "name": "stdout",
     "output_type": "stream",
     "text": [
      "Requirement already satisfied: spotipy in c:\\users\\lucie\\anaconda3\\lib\\site-packages (2.19.0)\n",
      "Requirement already satisfied: urllib3>=1.26.0 in c:\\users\\lucie\\anaconda3\\lib\\site-packages (from spotipy) (1.26.4)\n",
      "Requirement already satisfied: requests>=2.25.0 in c:\\users\\lucie\\anaconda3\\lib\\site-packages (from spotipy) (2.25.1)\n",
      "Requirement already satisfied: six>=1.15.0 in c:\\users\\lucie\\anaconda3\\lib\\site-packages (from spotipy) (1.15.0)\n",
      "Requirement already satisfied: chardet<5,>=3.0.2 in c:\\users\\lucie\\anaconda3\\lib\\site-packages (from requests>=2.25.0->spotipy) (4.0.0)\n",
      "Requirement already satisfied: idna<3,>=2.5 in c:\\users\\lucie\\anaconda3\\lib\\site-packages (from requests>=2.25.0->spotipy) (2.10)\n",
      "Requirement already satisfied: certifi>=2017.4.17 in c:\\users\\lucie\\anaconda3\\lib\\site-packages (from requests>=2.25.0->spotipy) (2020.12.5)\n"
     ]
    }
   ],
   "source": [
    "!pip install spotipy"
   ]
  },
  {
   "cell_type": "code",
   "execution_count": 3,
   "id": "43e946e3",
   "metadata": {},
   "outputs": [],
   "source": [
    "import requests\n",
    "import spotipy\n",
    "from spotipy.oauth2 import SpotifyOAuth\n",
    "import time\n",
    "import datetime\n",
    "from urllib.parse import urlencode"
   ]
  },
  {
   "cell_type": "code",
   "execution_count": 4,
   "id": "b9cee60f",
   "metadata": {},
   "outputs": [],
   "source": [
    "import pandas as pd\n",
    "import getpass"
   ]
  },
  {
   "cell_type": "code",
   "execution_count": 5,
   "id": "f4a6c7c4",
   "metadata": {},
   "outputs": [],
   "source": [
    "SPOTIPY_REDIRECT_URI = 'http://127.0.0.1:9090'\n",
    "SCOPE = 'user-top-read'  # asked in the documentation for authentification     "
   ]
  },
  {
   "cell_type": "code",
   "execution_count": 6,
   "id": "8ecab59a",
   "metadata": {},
   "outputs": [
    {
     "name": "stdout",
     "output_type": "stream",
     "text": [
      "········\n"
     ]
    }
   ],
   "source": [
    "SPOTIPY_CLIENT_ID = getpass.getpass()"
   ]
  },
  {
   "cell_type": "code",
   "execution_count": 7,
   "id": "7b3be5af",
   "metadata": {},
   "outputs": [
    {
     "name": "stdout",
     "output_type": "stream",
     "text": [
      "········\n"
     ]
    }
   ],
   "source": [
    "CLIENT_SECRET= getpass.getpass()"
   ]
  },
  {
   "cell_type": "code",
   "execution_count": 8,
   "id": "138ca2fc",
   "metadata": {},
   "outputs": [],
   "source": [
    "#initializing sp to access\n",
    "sp=spotipy.Spotify(auth_manager=SpotifyOAuth(client_id=SPOTIPY_CLIENT_ID,client_secret=CLIENT_SECRET,redirect_uri=SPOTIPY_REDIRECT_URI,scope=SCOPE))"
   ]
  },
  {
   "cell_type": "code",
   "execution_count": 11,
   "id": "98c3720e",
   "metadata": {},
   "outputs": [],
   "source": [
    "#FUNCTION - get track ids to access the track features\n",
    "\n",
    "def get_track_ids(time_frame):\n",
    "    track_ids =[]   # empty list\n",
    "    for song in time_frame['items']: #for each song we get in the dictionnary its item and within we get its id\n",
    "        track_ids.append(song['id'])\n",
    "    return track_ids"
   ]
  },
  {
   "cell_type": "code",
   "execution_count": 15,
   "id": "387cb424",
   "metadata": {},
   "outputs": [],
   "source": [
    "#FUNCTION - that retrieves the tracks' features (metadata)\n",
    "\n",
    "def get_track_features(id):\n",
    "    meta= sp.track(id)\n",
    "    name= meta['name']\n",
    "    album= meta['album']['name']\n",
    "    artist= meta['album']['artists'][0]['name']\n",
    "    spotify_url=meta['external_urls']['spotify']\n",
    "    album_cover=meta['album']['images'][0]['url']\n",
    "    track_info=[name, album, artist,spotify_url,album_cover] # let's put them into a new list\n",
    "    return track_info\n",
    "    "
   ]
  },
  {
   "cell_type": "code",
   "execution_count": 20,
   "id": "c7e2f8af",
   "metadata": {},
   "outputs": [],
   "source": [
    "#CONNECTING WITH THE GOOGLESHEET "
   ]
  },
  {
   "cell_type": "code",
   "execution_count": 21,
   "id": "630aec5f",
   "metadata": {},
   "outputs": [
    {
     "name": "stdout",
     "output_type": "stream",
     "text": [
      "Requirement already satisfied: gspread in c:\\users\\lucie\\anaconda3\\lib\\site-packages (4.0.1)\n",
      "Requirement already satisfied: google-auth-oauthlib>=0.4.1 in c:\\users\\lucie\\anaconda3\\lib\\site-packages (from gspread) (0.4.5)\n",
      "Requirement already satisfied: google-auth>=1.12.0 in c:\\users\\lucie\\anaconda3\\lib\\site-packages (from gspread) (2.0.1)\n",
      "Requirement already satisfied: rsa<5,>=3.1.4 in c:\\users\\lucie\\anaconda3\\lib\\site-packages (from google-auth>=1.12.0->gspread) (4.7.2)\n",
      "Requirement already satisfied: setuptools>=40.3.0 in c:\\users\\lucie\\anaconda3\\lib\\site-packages (from google-auth>=1.12.0->gspread) (52.0.0.post20210125)\n",
      "Requirement already satisfied: cachetools<5.0,>=2.0.0 in c:\\users\\lucie\\anaconda3\\lib\\site-packages (from google-auth>=1.12.0->gspread) (4.2.2)\n",
      "Requirement already satisfied: pyasn1-modules>=0.2.1 in c:\\users\\lucie\\anaconda3\\lib\\site-packages (from google-auth>=1.12.0->gspread) (0.2.8)\n",
      "Requirement already satisfied: requests-oauthlib>=0.7.0 in c:\\users\\lucie\\anaconda3\\lib\\site-packages (from google-auth-oauthlib>=0.4.1->gspread) (1.3.0)\n",
      "Requirement already satisfied: pyasn1<0.5.0,>=0.4.6 in c:\\users\\lucie\\anaconda3\\lib\\site-packages (from pyasn1-modules>=0.2.1->google-auth>=1.12.0->gspread) (0.4.8)\n",
      "Requirement already satisfied: oauthlib>=3.0.0 in c:\\users\\lucie\\anaconda3\\lib\\site-packages (from requests-oauthlib>=0.7.0->google-auth-oauthlib>=0.4.1->gspread) (3.1.1)\n",
      "Requirement already satisfied: requests>=2.0.0 in c:\\users\\lucie\\anaconda3\\lib\\site-packages (from requests-oauthlib>=0.7.0->google-auth-oauthlib>=0.4.1->gspread) (2.25.1)\n",
      "Requirement already satisfied: urllib3<1.27,>=1.21.1 in c:\\users\\lucie\\anaconda3\\lib\\site-packages (from requests>=2.0.0->requests-oauthlib>=0.7.0->google-auth-oauthlib>=0.4.1->gspread) (1.26.4)\n",
      "Requirement already satisfied: chardet<5,>=3.0.2 in c:\\users\\lucie\\anaconda3\\lib\\site-packages (from requests>=2.0.0->requests-oauthlib>=0.7.0->google-auth-oauthlib>=0.4.1->gspread) (4.0.0)\n",
      "Requirement already satisfied: certifi>=2017.4.17 in c:\\users\\lucie\\anaconda3\\lib\\site-packages (from requests>=2.0.0->requests-oauthlib>=0.7.0->google-auth-oauthlib>=0.4.1->gspread) (2020.12.5)\n",
      "Requirement already satisfied: idna<3,>=2.5 in c:\\users\\lucie\\anaconda3\\lib\\site-packages (from requests>=2.0.0->requests-oauthlib>=0.7.0->google-auth-oauthlib>=0.4.1->gspread) (2.10)\n"
     ]
    }
   ],
   "source": [
    "!pip install gspread"
   ]
  },
  {
   "cell_type": "code",
   "execution_count": 22,
   "id": "d46d5278",
   "metadata": {},
   "outputs": [],
   "source": [
    "import gspread"
   ]
  },
  {
   "cell_type": "code",
   "execution_count": 27,
   "id": "b04d213b",
   "metadata": {},
   "outputs": [],
   "source": [
    "#FUNCTION - that inserts the tracks into the Googlesheet\n",
    "def insert_to_gsheet(track_ids):\n",
    "    tracks = [] #1\n",
    "    for i in range(len(track_ids)):  #2 \n",
    "        time.sleep(.5) #3\n",
    "        track = get_track_features(track_ids[i]) #4\n",
    "        tracks.append(track) #5\n",
    "\n",
    "    df = pd.DataFrame(tracks, columns = ['name', 'album', 'artist', 'spotify_url', 'album_cover']) #6\n",
    "    gc = gspread.service_account(filename=r'C:\\Users\\lucie\\Desktop\\IRONHACK\\99_OTHER\\01_spotify_wrapped\\allwrappedup-spotify-project-885278e87a5a.json') #7\n",
    "    sh = gc.open('wrapped_spotify_GS') #8\n",
    "    worksheet = sh.worksheet(f'{time_period}') #9 \n",
    "    worksheet.update([df.columns.values.tolist()] + df.values.tolist()) #10\n",
    "    print('Done')"
   ]
  },
  {
   "cell_type": "code",
   "execution_count": 30,
   "id": "d81f293c",
   "metadata": {},
   "outputs": [],
   "source": [
    "#1# in a new list\n",
    "#2# loop over track ids\n",
    "#3# allow a little time for the API\n",
    "#4# get the info\n",
    "#5# add them to the new list\n",
    "#6# create a dataframe from the list\n",
    "#7# authentication for the gsheet -the json file is created when you do your credential when you initialize the google API\n",
    "#8# open the Googlesheet *** the spreadsheet is shared with the credentials you get from the json file --> share -> mail\n",
    "#9# go over the 3 time period of spotify short medium long term \n",
    "#10# for the update"
   ]
  },
  {
   "cell_type": "code",
   "execution_count": 29,
   "id": "97ea3575",
   "metadata": {},
   "outputs": [
    {
     "name": "stdout",
     "output_type": "stream",
     "text": [
      "Done\n",
      "Done\n",
      "Done\n"
     ]
    }
   ],
   "source": [
    "#CALLING THE FUNCTIONS \n",
    "time_ranges=['short_term','medium_term','long_term'] #spreadsheet named like the spotify's time period #to make things easier\n",
    "for time_period in time_ranges:\n",
    "    top_tracks=sp.current_user_top_tracks(limit=10,offset=0, time_range=time_period)\n",
    "    track_ids=get_track_ids(top_tracks) #calling the function get_track_ids for the 10 songs\n",
    "    insert_to_gsheet(track_ids)"
   ]
  }
 ],
 "metadata": {
  "kernelspec": {
   "display_name": "Python 3",
   "language": "python",
   "name": "python3"
  },
  "language_info": {
   "codemirror_mode": {
    "name": "ipython",
    "version": 3
   },
   "file_extension": ".py",
   "mimetype": "text/x-python",
   "name": "python",
   "nbconvert_exporter": "python",
   "pygments_lexer": "ipython3",
   "version": "3.8.8"
  }
 },
 "nbformat": 4,
 "nbformat_minor": 5
}
